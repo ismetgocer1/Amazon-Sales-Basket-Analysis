{
 "cells": [
  {
   "cell_type": "code",
   "execution_count": 13,
   "id": "654ad398",
   "metadata": {
    "ExecuteTime": {
     "end_time": "2023-12-06T09:39:50.129346Z",
     "start_time": "2023-12-06T09:39:50.121765Z"
    }
   },
   "outputs": [
    {
     "name": "stdout",
     "output_type": "stream",
     "text": [
      "Overwriting Streamlit_app.py\n"
     ]
    }
   ],
   "source": [
    "%%writefile Streamlit_app.py\n",
    "import streamlit as st\n",
    "import pandas as pd\n",
    "import streamlit.components.v1 as components\n",
    "\n",
    "\n",
    "\n",
    "# Streamlit arayüzünü oluşturma\n",
    "st.markdown(\n",
    "    \"\"\"\n",
    "    <style>\n",
    "    .stApp {\n",
    "        background-color: orange;  /* Arka plan rengi */\n",
    "    }\n",
    "    .custom-text {\n",
    "        font-size: 24px; /* Yazı boyutu */\n",
    "        color: red;      /* Yazı rengi */\n",
    "    }\n",
    "    </style>\n",
    "    \"\"\",\n",
    "    unsafe_allow_html=True\n",
    ")\n",
    "\n",
    "st.image(\"Amazon.png\", width=300)\n",
    "#st.image(\"Amazon.png\", use_column_width=True)\n",
    "\n",
    "# Veri setlerini yükle\n",
    "df = pd.read_csv('sepet_analizi.csv')  # Ana veri seti\n",
    "df['Profit_rate'] = df['Unnamed: 17']\n",
    "df.drop(\"Unnamed: 17\", axis=1, inplace=True)\n",
    "df2 = pd.read_csv('for_further_analysis.csv')  # İkinci veri seti\n",
    "\n",
    "\n",
    "def beraber_satinalma_analizi():\n",
    "    st.title('Birlikte Satın Alınan Ürün Analizi')\n",
    "    user_input_asin = st.text_input(\"Bir ASIN girin:\")\n",
    "    # Kenar çubuğu için ASIN seçici ekle\n",
    "    unique_asins = df['asin'].unique()  # Veri setinden benzersiz ASIN'leri al\n",
    "    selected_asin = st.sidebar.selectbox(\"ASIN Seçiniz\", unique_asins)\n",
    "     # Seçilen ASIN'i bir metin olarak gösterin ve kopyalanabilir yapın\n",
    "    st.sidebar.text(f\"Seçilen ASIN: {selected_asin}\")\n",
    "    \n",
    "\n",
    "    if user_input_asin:\n",
    "        # Beraber satın alınan ürünlerin analizini yap\n",
    "        total_order = df[df.asin == user_input_asin].shape[0]\n",
    "        filtered_df = df2[df2.eq(user_input_asin).any(axis=1)]\n",
    "        columns_to_check = ['asin1', 'asin2', 'asin3', 'asin4', 'asin5', 'asin6', 'asin7']\n",
    "        not_equal_values = []\n",
    "        \n",
    "\n",
    "        for column in columns_to_check:\n",
    "            values = filtered_df[column][filtered_df[column] != user_input_asin]\n",
    "            value_counts = values.value_counts()\n",
    "            not_equal_values.extend([(value, count) for value, count in value_counts.items()])\n",
    "\n",
    "        result_df = pd.DataFrame(not_equal_values, columns=['Value', 'Count'])\n",
    "        result_df = result_df.groupby('Value')['Count'].sum().reset_index()\n",
    "        result_df = result_df.sort_values(by='Count', ascending=False)\n",
    "        result_df['kar_orani'] = df['Profit_rate']*100\n",
    "        result_df['kar_orani'] = result_df['kar_orani'].round()\n",
    "        bought_together = result_df['Count'].sum()\n",
    "        \n",
    "        st.write('Sipariş Sayısı:', total_order)\n",
    "        st.write(f'Birlikte Satın Alma Oranı: {bought_together*100/total_order:.2f}%')\n",
    "        st.write(f'Tek Başına Satın Alma Oranı: {(total_order-bought_together)*100/total_order:.2f}%')\n",
    "        st.write(\"Birlikte Satın Alınan Ürünler ve Sayıları:\")\n",
    "        st.dataframe(result_df[['Value', 'Count']])\n",
    "        st.write(\"ASIN'ler ve İlgili Kar Yüzdeleri:\")\n",
    "        st.dataframe(result_df[['Value', 'kar_orani']])\n",
    "        \n",
    "    \n",
    "def asin_analizi():\n",
    "    st.title('ASIN Analizi')\n",
    "\n",
    "    input_threshold_value = st.number_input(\"Birlikte satılma yüzdesi için threshold değeri girin:\", min_value=0.0, max_value=100.0, value=50.0)\n",
    "    input_min_ordered = st.number_input(\"Minimum sipariş sayısı girin:\", min_value=1, max_value=10000, value=10)\n",
    "    \n",
    "    processed_asins = set()\n",
    "    columns_to_check = ['asin1', 'asin2', 'asin3', 'asin4', 'asin5', 'asin6', 'asin7']\n",
    "\n",
    "    if st.button('Analizi Başlat'):\n",
    "        for col in df2.columns[1:]:\n",
    "            unique_asins = df2[col].unique()\n",
    "            for iterated_asin in unique_asins:\n",
    "                if pd.isnull(iterated_asin) or iterated_asin in processed_asins:\n",
    "                    continue\n",
    "\n",
    "                total_order = df[df['asin'] == iterated_asin].shape[0]\n",
    "                \n",
    "                if total_order < input_min_ordered:\n",
    "                    continue\n",
    "\n",
    "                filtered_df = df2[df2.eq(iterated_asin).any(axis=1)]\n",
    "                not_equal_values = []\n",
    "\n",
    "                for column in columns_to_check:\n",
    "                    values = filtered_df[column][filtered_df[column] != iterated_asin]\n",
    "                    value_counts = values.value_counts()\n",
    "                    not_equal_values.extend([(value, count) for value, count in value_counts.items()])\n",
    "\n",
    "                result_df = pd.DataFrame(not_equal_values, columns=['Value', 'Count'])\n",
    "                result_df = result_df.groupby('Value')['Count'].sum().reset_index()\n",
    "                result_df = result_df.sort_values(by='Count', ascending=False)\n",
    "\n",
    "                bought_together = result_df['Count'].sum()\n",
    "                bought_together_rate = bought_together * 100 / total_order if total_order > 0 else 0\n",
    "                bought_alone_rate = (total_order - bought_together) * 100 / total_order\n",
    "\n",
    "                if bought_together_rate >= input_threshold_value:\n",
    "                    st.write(f\"ASIN: {iterated_asin}\")\n",
    "                    st.write(f\"Toplam Sipariş Sayısı: {total_order}\")\n",
    "                    st.write(f\"Birlikte Satın Alma Oranı: {bought_together_rate:.2f}%\")\n",
    "                    st.write(f\"Tek Başına Satın Alma Oranı: {bought_alone_rate:.2f}%\")\n",
    "\n",
    "                processed_asins.add(iterated_asin)\n",
    "        # Web sitesini bir iframe içinde göster\n",
    "        st.markdown(\"### Amazon ASIN Arama\")\n",
    "        components.iframe(\"https://amazon-asin.com/\", height=500, scrolling=True)\n",
    "\n",
    "def ana():\n",
    "    st.sidebar.title(\"Sepet Analizi\")\n",
    "    sayfa = st.sidebar.radio(\"Sayfa Seçiniz:\", ['Birlikte Satın Alınan Ürün Analizi', 'ASIN Analizi'])\n",
    "\n",
    "    if sayfa == 'Birlikte Satın Alınan Ürün Analizi':\n",
    "        beraber_satinalma_analizi()\n",
    "    elif sayfa == 'ASIN Analizi':\n",
    "        asin_analizi()\n",
    "\n",
    "if __name__ == \"__main__\":\n",
    "    ana()"
   ]
  },
  {
   "cell_type": "code",
   "execution_count": null,
   "id": "1b985f22",
   "metadata": {
    "ExecuteTime": {
     "start_time": "2023-12-06T09:39:50.489Z"
    }
   },
   "outputs": [],
   "source": [
    "!streamlit run Streamlit_app.py"
   ]
  },
  {
   "cell_type": "code",
   "execution_count": null,
   "id": "4269c1a6",
   "metadata": {},
   "outputs": [],
   "source": []
  }
 ],
 "metadata": {
  "hide_input": false,
  "kernelspec": {
   "display_name": "Python 3 (ipykernel)",
   "language": "python",
   "name": "python3"
  },
  "language_info": {
   "codemirror_mode": {
    "name": "ipython",
    "version": 3
   },
   "file_extension": ".py",
   "mimetype": "text/x-python",
   "name": "python",
   "nbconvert_exporter": "python",
   "pygments_lexer": "ipython3",
   "version": "3.10.9"
  },
  "nbTranslate": {
   "displayLangs": [
    "*"
   ],
   "hotkey": "alt-t",
   "langInMainMenu": true,
   "sourceLang": "en",
   "targetLang": "fr",
   "useGoogleTranslate": true
  },
  "toc": {
   "base_numbering": 1,
   "nav_menu": {},
   "number_sections": true,
   "sideBar": true,
   "skip_h1_title": false,
   "title_cell": "Table of Contents",
   "title_sidebar": "Contents",
   "toc_cell": false,
   "toc_position": {},
   "toc_section_display": true,
   "toc_window_display": false
  },
  "varInspector": {
   "cols": {
    "lenName": 16,
    "lenType": 16,
    "lenVar": 40
   },
   "kernels_config": {
    "python": {
     "delete_cmd_postfix": "",
     "delete_cmd_prefix": "del ",
     "library": "var_list.py",
     "varRefreshCmd": "print(var_dic_list())"
    },
    "r": {
     "delete_cmd_postfix": ") ",
     "delete_cmd_prefix": "rm(",
     "library": "var_list.r",
     "varRefreshCmd": "cat(var_dic_list()) "
    }
   },
   "types_to_exclude": [
    "module",
    "function",
    "builtin_function_or_method",
    "instance",
    "_Feature"
   ],
   "window_display": false
  }
 },
 "nbformat": 4,
 "nbformat_minor": 5
}
